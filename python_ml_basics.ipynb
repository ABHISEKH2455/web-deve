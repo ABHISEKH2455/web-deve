{
  "nbformat": 4,
  "nbformat_minor": 0,
  "metadata": {
    "colab": {
      "provenance": [],
      "authorship_tag": "ABX9TyPWjvoKyJmVtJngY6Joil2b",
      "include_colab_link": true
    },
    "kernelspec": {
      "name": "python3",
      "display_name": "Python 3"
    },
    "language_info": {
      "name": "python"
    }
  },
  "cells": [
    {
      "cell_type": "markdown",
      "metadata": {
        "id": "view-in-github",
        "colab_type": "text"
      },
      "source": [
        "<a href=\"https://colab.research.google.com/github/ABHISEKH2455/web-deve/blob/main/python_ml_basics.ipynb\" target=\"_parent\"><img src=\"https://colab.research.google.com/assets/colab-badge.svg\" alt=\"Open In Colab\"/></a>"
      ]
    },
    {
      "cell_type": "code",
      "execution_count": null,
      "metadata": {
        "id": "YveY4Aq2CYLu"
      },
      "outputs": [],
      "source": []
    },
    {
      "cell_type": "code",
      "source": [
        "import numpy as np\n",
        "arr=np.array([1,2,3,4,5])\n",
        "print(arr)\n",
        "type(arr)\n",
        "print(arr.ndim)"
      ],
      "metadata": {
        "colab": {
          "base_uri": "https://localhost:8080/"
        },
        "id": "pCCDM_9u9FOk",
        "outputId": "12c4642d-c1f1-46f9-a2fa-ffc4ad46c1a6"
      },
      "execution_count": 6,
      "outputs": [
        {
          "output_type": "stream",
          "name": "stdout",
          "text": [
            "[1 2 3 4 5]\n",
            "1\n"
          ]
        }
      ]
    },
    {
      "cell_type": "code",
      "source": [
        "import numpy as np\n",
        "\n",
        "l = []\n",
        "\n",
        "for i in range(1, 5):\n",
        "    int_1 = int(input(\"Enter a number: \"))  # Taking integer input\n",
        "    l.append(int_1)  # Appending to the list\n",
        "\n",
        "# Convert list to NumPy array and print it\n",
        "array_l = np.array(l)\n",
        "print(\"NumPy Array:\", array_l)\n"
      ],
      "metadata": {
        "colab": {
          "base_uri": "https://localhost:8080/"
        },
        "id": "oxJXVCFYgzX4",
        "outputId": "2a8d1f88-66bf-4fcc-edd8-e781f31d75ca"
      },
      "execution_count": 9,
      "outputs": [
        {
          "output_type": "stream",
          "name": "stdout",
          "text": [
            "Enter a number: 12\n",
            "Enter a number: 14\n",
            "Enter a number: 15\n",
            "Enter a number: 16\n",
            "NumPy Array: [12 14 15 16]\n"
          ]
        }
      ]
    },
    {
      "cell_type": "code",
      "source": [],
      "metadata": {
        "id": "axED4R1_iHqm"
      },
      "execution_count": null,
      "outputs": []
    }
  ]
}